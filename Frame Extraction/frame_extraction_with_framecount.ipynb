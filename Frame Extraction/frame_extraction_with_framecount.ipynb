{
  "nbformat": 4,
  "nbformat_minor": 0,
  "metadata": {
    "colab": {
      "provenance": []
    },
    "kernelspec": {
      "name": "python3",
      "display_name": "Python 3"
    },
    "language_info": {
      "name": "python"
    }
  },
  "cells": [
    {
      "cell_type": "code",
      "execution_count": null,
      "metadata": {
        "id": "AGsmlOHQVdzR"
      },
      "outputs": [],
      "source": [
        "!pip install opencv-python"
      ]
    },
    {
      "cell_type": "code",
      "source": [
        "import cv2\n",
        "import os\n",
        "\n",
        "def extract_frames(video_path, output_folder, frame_rate=1):\n",
        "\n",
        "    if not os.path.exists(output_folder):\n",
        "        os.makedirs(output_folder)\n",
        "\n",
        "\n",
        "    video = cv2.VideoCapture(video_path)\n",
        "\n",
        "    if not video.isOpened():\n",
        "        print(f\"Error: Could not open video {video_path}\")\n",
        "        return\n",
        "\n",
        "    fps = video.get(cv2.CAP_PROP_FPS)\n",
        "\n",
        "    interval = int(fps // frame_rate)\n",
        "\n",
        "    frame_count = 0\n",
        "    saved_count = 0\n",
        "\n",
        "    while True:\n",
        "        ret, frame = video.read()\n",
        "\n",
        "        if not ret:\n",
        "            break\n",
        "\n",
        "        if frame_count % interval == 0:\n",
        "            frame_name = f\"{output_folder}/frame_{saved_count:05d}.jpg\"\n",
        "            cv2.imwrite(frame_name, frame)\n",
        "            saved_count += 1\n",
        "\n",
        "        frame_count += 1\n",
        "\n",
        "\n",
        "    video.release()\n",
        "    print(f\"Extracted and saved {saved_count} frames to {output_folder}\")\n",
        "\n",
        "video_path = 'your_video.mp4'\n",
        "output_folder = 'extracted_frames'\n",
        "frame_rate = 1\n",
        "\n",
        "extract_frames(video_path, output_folder, frame_rate)\n"
      ],
      "metadata": {
        "id": "TJ719yeLVgr1"
      },
      "execution_count": null,
      "outputs": []
    }
  ]
}