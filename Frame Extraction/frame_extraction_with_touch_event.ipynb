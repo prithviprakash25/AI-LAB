{
  "nbformat": 4,
  "nbformat_minor": 0,
  "metadata": {
    "colab": {
      "provenance": []
    },
    "kernelspec": {
      "name": "python3",
      "display_name": "Python 3"
    },
    "language_info": {
      "name": "python"
    }
  },
  "cells": [
    {
      "cell_type": "code",
      "execution_count": null,
      "metadata": {
        "id": "z-NOmwWXWp4e"
      },
      "outputs": [],
      "source": [
        "import cv2\n",
        "import pygame\n",
        "import os\n",
        "\n",
        "def extract_frame_on_click(video_path, output_folder):\n",
        "\n",
        "    if not os.path.exists(output_folder):\n",
        "        os.makedirs(output_folder)\n",
        "\n",
        "    pygame.init()\n",
        "    screen = pygame.display.set_mode((640, 480))\n",
        "\n",
        "    video = cv2.VideoCapture(video_path)\n",
        "\n",
        "\n",
        "    if not video.isOpened():\n",
        "        print(f\"Error: Could not open video {video_path}\")\n",
        "        return\n",
        "\n",
        "    frame_count = 0\n",
        "    saved_count = 0\n",
        "    paused = False\n",
        "\n",
        "    while True:\n",
        "\n",
        "        for event in pygame.event.get():\n",
        "            if event.type == pygame.QUIT:\n",
        "                video.release()\n",
        "                pygame.quit()\n",
        "                return\n",
        "\n",
        "            if event.type == pygame.MOUSEBUTTONDOWN:\n",
        "                paused = True\n",
        "                print(\"Touch event detected. Saving the current frame...\")\n",
        "\n",
        "        if not paused:\n",
        "            ret, frame = video.read()\n",
        "            if not ret:\n",
        "                break\n",
        "\n",
        "            cv2.imshow('Video Frame', frame)\n",
        "            frame_count += 1\n",
        "\n",
        "        else:\n",
        "\n",
        "            frame_name = f\"{output_folder}/frame_{saved_count:05d}.jpg\"\n",
        "            cv2.imwrite(frame_name, frame)\n",
        "            saved_count += 1\n",
        "            paused = False\n",
        "\n",
        "        if cv2.waitKey(20) & 0xFF == ord('q'):\n",
        "            break\n",
        "\n",
        "    video.release()\n",
        "    cv2.destroyAllWindows()\n",
        "    pygame.quit()\n",
        "    print(f\"Extracted and saved {saved_count} frames to {output_folder}\")\n",
        "\n",
        "\n",
        "video_path = ''  # enter your video path\n",
        "output_folder = 'extracted_frames'\n",
        "extract_frame_on_click(video_path, output_folder)\n"
      ]
    }
  ]
}